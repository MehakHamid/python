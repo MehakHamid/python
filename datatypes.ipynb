{
  "nbformat": 4,
  "nbformat_minor": 0,
  "metadata": {
    "colab": {
      "provenance": [],
      "toc_visible": true,
      "gpuType": "T4",
      "authorship_tag": "ABX9TyNhP//TS5yEPsMAh0n82GEb",
      "include_colab_link": true
    },
    "kernelspec": {
      "name": "python3",
      "display_name": "Python 3"
    },
    "language_info": {
      "name": "python"
    },
    "accelerator": "GPU"
  },
  "cells": [
    {
      "cell_type": "markdown",
      "metadata": {
        "id": "view-in-github",
        "colab_type": "text"
      },
      "source": [
        "<a href=\"https://colab.research.google.com/github/MehakHamid/python/blob/main/datatypes.ipynb\" target=\"_parent\"><img src=\"https://colab.research.google.com/assets/colab-badge.svg\" alt=\"Open In Colab\"/></a>"
      ]
    },
    {
      "cell_type": "markdown",
      "source": [
        "#1st program hello world\n",
        "\n",
        "```\n",
        "# This is formatted as code\n",
        "```\n",
        "\n"
      ],
      "metadata": {
        "id": "sUDbWyAzt6mF"
      }
    },
    {
      "cell_type": "code",
      "execution_count": 1,
      "metadata": {
        "colab": {
          "base_uri": "https://localhost:8080/"
        },
        "id": "Te--rKeFtoQw",
        "outputId": "1703c176-71ea-4c1a-d9ee-a6b5523f541f"
      },
      "outputs": [
        {
          "output_type": "stream",
          "name": "stdout",
          "text": [
            "hello world\n"
          ]
        }
      ],
      "source": [
        "print(\"hello world\")"
      ]
    },
    {
      "cell_type": "markdown",
      "source": [
        "#DATA TYPES"
      ],
      "metadata": {
        "id": "lJN-QnWVuHhD"
      }
    },
    {
      "cell_type": "markdown",
      "source": [
        "1. Numeric Types"
      ],
      "metadata": {
        "id": "fi8c2mjO0Gov"
      }
    },
    {
      "cell_type": "markdown",
      "source": [
        "Integer (int)"
      ],
      "metadata": {
        "id": "VRWwPjSozA0r"
      }
    },
    {
      "cell_type": "code",
      "source": [
        "Age : int = 25\n",
        "print(\"my age is \" + str(Age))\n",
        "print(type(Age),\"TYPE OF AGE\")"
      ],
      "metadata": {
        "colab": {
          "base_uri": "https://localhost:8080/"
        },
        "id": "AQmPuRuty-Qi",
        "outputId": "15c1936d-c725-467c-b4f0-d222a4d7a50c"
      },
      "execution_count": 6,
      "outputs": [
        {
          "output_type": "stream",
          "name": "stdout",
          "text": [
            "my age is 25\n",
            "<class 'int'> TYPE OF AGE\n"
          ]
        }
      ]
    },
    {
      "cell_type": "markdown",
      "source": [],
      "metadata": {
        "id": "JFXKN0Lmz9V3"
      }
    },
    {
      "cell_type": "markdown",
      "source": [
        "Floating-Point (float)"
      ],
      "metadata": {
        "id": "S_R-i0GWz9YC"
      }
    },
    {
      "cell_type": "code",
      "source": [
        "Percentage : float = 90.5\n",
        "print(\"my percentage is \" + str(Percentage))\n",
        "print(type(Percentage),\"TYPE OF PERCENTAGE\")"
      ],
      "metadata": {
        "colab": {
          "base_uri": "https://localhost:8080/"
        },
        "id": "UviWgcT20ME9",
        "outputId": "336ecd77-f285-43fc-ba80-0b44d963c625"
      },
      "execution_count": 7,
      "outputs": [
        {
          "output_type": "stream",
          "name": "stdout",
          "text": [
            "my percentage is 90.5\n",
            "<class 'float'> TYPE OF PERCENTAGE\n"
          ]
        }
      ]
    },
    {
      "cell_type": "markdown",
      "source": [
        "Complex (complex)"
      ],
      "metadata": {
        "id": "MFPYtUUb0feO"
      }
    },
    {
      "cell_type": "code",
      "source": [
        "formula : complex = 3 + 4j\n",
        "print(\"my formula is \" + str(formula))\n",
        "print(type(formula),\"TYPE OF FORMULA\")"
      ],
      "metadata": {
        "colab": {
          "base_uri": "https://localhost:8080/"
        },
        "id": "xfblFJcJzn2T",
        "outputId": "fd26332a-f116-40a5-eb4f-524ff9420c05"
      },
      "execution_count": 8,
      "outputs": [
        {
          "output_type": "stream",
          "name": "stdout",
          "text": [
            "my formula is (3+4j)\n",
            "<class 'complex'> TYPE OF FORMULA\n"
          ]
        }
      ]
    },
    {
      "cell_type": "markdown",
      "source": [
        "2. Boolean (bool)"
      ],
      "metadata": {
        "id": "RXig8-eN1OZd"
      }
    },
    {
      "cell_type": "code",
      "source": [
        "myName :bool = True\n",
        "myName:bool = False\n",
        "print(\"my name is \" + str(myName))\n",
        "print(type(myName),\"TYPE OF MYNAME\")"
      ],
      "metadata": {
        "colab": {
          "base_uri": "https://localhost:8080/"
        },
        "id": "2RrLebTE1b91",
        "outputId": "cc3dabe4-2de1-43e1-cda3-58dbc36d9812"
      },
      "execution_count": 10,
      "outputs": [
        {
          "output_type": "stream",
          "name": "stdout",
          "text": [
            "my name is False\n",
            "<class 'bool'> TYPE OF MYNAME\n"
          ]
        }
      ]
    },
    {
      "cell_type": "markdown",
      "source": [
        "3. Sequence Types"
      ],
      "metadata": {
        "id": "gUJkyjyL1v20"
      }
    },
    {
      "cell_type": "markdown",
      "source": [
        "String (str)"
      ],
      "metadata": {
        "id": "dLR2MVAj16xA"
      }
    },
    {
      "cell_type": "code",
      "source": [
        "myFav = \"Cat\"\n",
        "myFav1 = 'dog'\n",
        "myFav2 = \"\"\"bird\"\"\"\n",
        "myFav3 = '''fish'''\n",
        "print(myFav)\n",
        "print(myFav1)\n",
        "print(myFav2)\n",
        "print(myFav3)\n",
        "print(type(myFav),\"text_double ,TYPE OF MYFAV\")\n",
        "print(type(myFav1),\"text_single ,TYPE OF MYFAV1\")\n",
        "print(type(myFav2),\"multi TYPE OF MYFAV2\")\n",
        "print(type(myFav3),\"multi TYPE OF MYFAV3\")"
      ],
      "metadata": {
        "colab": {
          "base_uri": "https://localhost:8080/"
        },
        "id": "11VmeqJt1yWB",
        "outputId": "decb416a-ff2c-4002-9ac5-f25b706f95c8"
      },
      "execution_count": 12,
      "outputs": [
        {
          "output_type": "stream",
          "name": "stdout",
          "text": [
            "Cat\n",
            "dog\n",
            "bird\n",
            "fish\n",
            "<class 'str'> text_double ,TYPE OF MYFAV\n",
            "<class 'str'> text_single ,TYPE OF MYFAV1\n",
            "<class 'str'> multi TYPE OF MYFAV2\n",
            "<class 'str'> multi TYPE OF MYFAV3\n"
          ]
        }
      ]
    },
    {
      "cell_type": "markdown",
      "source": [
        "List (list)"
      ],
      "metadata": {
        "id": "cfaIhk0l3NdW"
      }
    },
    {
      "cell_type": "code",
      "source": [
        "my_list_1: int = [1, 2, 3, \"Java\", 3.14, True]\n",
        "my_list: list = [1, 2, 3, \"Python\", 3.14, 3+2j]\n",
        "\n",
        "print(type(my_list_1), \" my_list_1 = \", my_list_1)\n",
        "print(type(my_list), \" my_list   =  \" + str(my_list))"
      ],
      "metadata": {
        "colab": {
          "base_uri": "https://localhost:8080/"
        },
        "id": "huxv-S0A3Q18",
        "outputId": "0b66bf6f-34dc-4aac-89bc-7db176801211"
      },
      "execution_count": 13,
      "outputs": [
        {
          "output_type": "stream",
          "name": "stdout",
          "text": [
            "<class 'list'>  my_list_1 =  [1, 2, 3, 'Java', 3.14, True]\n",
            "<class 'list'>  my_list   =  [1, 2, 3, 'Python', 3.14, (3+2j)]\n"
          ]
        }
      ]
    },
    {
      "cell_type": "markdown",
      "source": [
        "Tuple (tuple)"
      ],
      "metadata": {
        "id": "neDdHh7X30BJ"
      }
    },
    {
      "cell_type": "code",
      "source": [
        "my_tuple: tuple = (1, 2, 3, \"AI\", 2.71, False, .3 , 3+2j )\n",
        "print(type(my_tuple), \" my_tuple = \", my_tuple )"
      ],
      "metadata": {
        "colab": {
          "base_uri": "https://localhost:8080/"
        },
        "id": "N_xQ33Th35mN",
        "outputId": "7589035b-637a-4a64-a7a8-961426cfbc8d"
      },
      "execution_count": 14,
      "outputs": [
        {
          "output_type": "stream",
          "name": "stdout",
          "text": [
            "<class 'tuple'>  my_tuple =  (1, 2, 3, 'AI', 2.71, False, 0.3, (3+2j))\n"
          ]
        }
      ]
    },
    {
      "cell_type": "markdown",
      "source": [
        "RANGE"
      ],
      "metadata": {
        "id": "4VeSfl2f4ImO"
      }
    },
    {
      "cell_type": "code",
      "source": [
        "num_range: range = range(1, 10, 2)\n",
        "\n",
        "print(type(num_range), num_range.stop)"
      ],
      "metadata": {
        "colab": {
          "base_uri": "https://localhost:8080/"
        },
        "id": "tPn6Mz5b4KVo",
        "outputId": "36fe37e4-3d25-4b86-9401-b9f8a9c9e234"
      },
      "execution_count": 20,
      "outputs": [
        {
          "output_type": "stream",
          "name": "stdout",
          "text": [
            "<class 'range'> 10\n"
          ]
        }
      ]
    },
    {
      "cell_type": "code",
      "source": [
        "for i in num_range:\n",
        "  print(i)"
      ],
      "metadata": {
        "colab": {
          "base_uri": "https://localhost:8080/"
        },
        "id": "pJMwCqdN5D41",
        "outputId": "326bd268-b1de-4637-b348-5ac65f450c40"
      },
      "execution_count": 21,
      "outputs": [
        {
          "output_type": "stream",
          "name": "stdout",
          "text": [
            "1\n",
            "3\n",
            "5\n",
            "7\n",
            "9\n"
          ]
        }
      ]
    },
    {
      "cell_type": "markdown",
      "source": [
        "4. Set Types"
      ],
      "metadata": {
        "id": "KwBPJKul5Mj6"
      }
    },
    {
      "cell_type": "markdown",
      "source": [
        "Set"
      ],
      "metadata": {
        "id": "zUeUQv4-5c-m"
      }
    },
    {
      "cell_type": "code",
      "source": [
        "my_set: set = {1, 2, 33, 4, 4, 5}\n",
        "print(type(my_set), \"my_set = \", my_set)"
      ],
      "metadata": {
        "colab": {
          "base_uri": "https://localhost:8080/"
        },
        "id": "xGfei8yo5SHH",
        "outputId": "bcab5fb1-adff-4ec5-ff47-75f348abc90f"
      },
      "execution_count": 22,
      "outputs": [
        {
          "output_type": "stream",
          "name": "stdout",
          "text": [
            "<class 'set'> my_set =  {1, 2, 33, 4, 5}\n"
          ]
        }
      ]
    },
    {
      "cell_type": "markdown",
      "source": [
        "Frozen Set (frozenset)"
      ],
      "metadata": {
        "id": "wMf8XH585kLe"
      }
    },
    {
      "cell_type": "code",
      "source": [
        "frozen_set = frozenset([11, 2, 3, 4, 4, 5])\n",
        "#frozen_set = frozenset(my_set)\n",
        "print(type(frozen_set), \" frozen_set = \", frozen_set)"
      ],
      "metadata": {
        "colab": {
          "base_uri": "https://localhost:8080/"
        },
        "id": "NsYD5Run5nAS",
        "outputId": "6585c7b7-f4c7-4c9e-911c-51652da721b3"
      },
      "execution_count": 23,
      "outputs": [
        {
          "output_type": "stream",
          "name": "stdout",
          "text": [
            "<class 'frozenset'>  frozen_set =  frozenset({2, 3, 4, 5, 11})\n"
          ]
        }
      ]
    },
    {
      "cell_type": "markdown",
      "source": [
        "5. Mapping Type"
      ],
      "metadata": {
        "id": "UQ1PHLXo5xwF"
      }
    },
    {
      "cell_type": "code",
      "source": [
        "my_dict: dict = {\"name\": \"Alice\", \"age\": 25, \"language\": \"Python\"}\n",
        "print(type(my_dict),\" my_dict = \", my_dict )"
      ],
      "metadata": {
        "colab": {
          "base_uri": "https://localhost:8080/"
        },
        "id": "uW3MKxGc51gE",
        "outputId": "29698718-ccae-42b3-cd41-ba25e7fc7ec9"
      },
      "execution_count": 24,
      "outputs": [
        {
          "output_type": "stream",
          "name": "stdout",
          "text": [
            "<class 'dict'>  my_dict =  {'name': 'Alice', 'age': 25, 'language': 'Python'}\n"
          ]
        }
      ]
    }
  ]
}